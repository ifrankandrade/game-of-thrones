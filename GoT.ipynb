{
 "cells": [
  {
   "cell_type": "code",
   "execution_count": 1,
   "metadata": {},
   "outputs": [],
   "source": [
    "import pandas as pd\n",
    "import numpy as np\n",
    "import pickle\n",
    "import seaborn as sns\n",
    "from matplotlib import pyplot as plt\n",
    "import re"
   ]
  },
  {
   "cell_type": "markdown",
   "metadata": {},
   "source": [
    "# Data Cleaning"
   ]
  },
  {
   "cell_type": "code",
   "execution_count": 2,
   "metadata": {},
   "outputs": [],
   "source": [
    "%store -r df_nation\n",
    "%store -r df_series_groups"
   ]
  },
  {
   "cell_type": "code",
   "execution_count": 3,
   "metadata": {},
   "outputs": [
    {
     "data": {
      "text/html": [
       "<div>\n",
       "<style scoped>\n",
       "    .dataframe tbody tr th:only-of-type {\n",
       "        vertical-align: middle;\n",
       "    }\n",
       "\n",
       "    .dataframe tbody tr th {\n",
       "        vertical-align: top;\n",
       "    }\n",
       "\n",
       "    .dataframe thead th {\n",
       "        text-align: right;\n",
       "    }\n",
       "</style>\n",
       "<table border=\"1\" class=\"dataframe\">\n",
       "  <thead>\n",
       "    <tr style=\"text-align: right;\">\n",
       "      <th></th>\n",
       "      <th>base_forms</th>\n",
       "      <th>all_forms</th>\n",
       "      <th>levels</th>\n",
       "      <th>levels_frequency</th>\n",
       "      <th>levels_coverage</th>\n",
       "    </tr>\n",
       "  </thead>\n",
       "  <tbody>\n",
       "    <tr>\n",
       "      <th>56173</th>\n",
       "      <td>a</td>\n",
       "      <td>a</td>\n",
       "      <td>1</td>\n",
       "      <td>1</td>\n",
       "      <td>1</td>\n",
       "    </tr>\n",
       "    <tr>\n",
       "      <th>1149</th>\n",
       "      <td>a1</td>\n",
       "      <td>a1</td>\n",
       "      <td>26</td>\n",
       "      <td>0</td>\n",
       "      <td>26</td>\n",
       "    </tr>\n",
       "    <tr>\n",
       "      <th>1150</th>\n",
       "      <td>a11</td>\n",
       "      <td>a11</td>\n",
       "      <td>26</td>\n",
       "      <td>0</td>\n",
       "      <td>26</td>\n",
       "    </tr>\n",
       "    <tr>\n",
       "      <th>1151</th>\n",
       "      <td>a168</td>\n",
       "      <td>a168</td>\n",
       "      <td>26</td>\n",
       "      <td>0</td>\n",
       "      <td>26</td>\n",
       "    </tr>\n",
       "    <tr>\n",
       "      <th>1152</th>\n",
       "      <td>a19</td>\n",
       "      <td>a19</td>\n",
       "      <td>26</td>\n",
       "      <td>0</td>\n",
       "      <td>26</td>\n",
       "    </tr>\n",
       "    <tr>\n",
       "      <th>...</th>\n",
       "      <td>...</td>\n",
       "      <td>...</td>\n",
       "      <td>...</td>\n",
       "      <td>...</td>\n",
       "      <td>...</td>\n",
       "    </tr>\n",
       "    <tr>\n",
       "      <th>30895</th>\n",
       "      <td>emigre</td>\n",
       "      <td>émigrés</td>\n",
       "      <td>12</td>\n",
       "      <td>5-25</td>\n",
       "      <td>12</td>\n",
       "    </tr>\n",
       "    <tr>\n",
       "      <th>69601</th>\n",
       "      <td>esprit</td>\n",
       "      <td>ésprit</td>\n",
       "      <td>16</td>\n",
       "      <td>5-25</td>\n",
       "      <td>15</td>\n",
       "    </tr>\n",
       "    <tr>\n",
       "      <th>89976</th>\n",
       "      <td>etoile</td>\n",
       "      <td>étoile</td>\n",
       "      <td>20</td>\n",
       "      <td>5-25</td>\n",
       "      <td>15</td>\n",
       "    </tr>\n",
       "    <tr>\n",
       "      <th>52372</th>\n",
       "      <td>etudes</td>\n",
       "      <td>étude</td>\n",
       "      <td>15</td>\n",
       "      <td>5-25</td>\n",
       "      <td>15</td>\n",
       "    </tr>\n",
       "    <tr>\n",
       "      <th>52373</th>\n",
       "      <td>etudes</td>\n",
       "      <td>études</td>\n",
       "      <td>15</td>\n",
       "      <td>5-25</td>\n",
       "      <td>15</td>\n",
       "    </tr>\n",
       "  </tbody>\n",
       "</table>\n",
       "<p>105477 rows × 5 columns</p>\n",
       "</div>"
      ],
      "text/plain": [
       "      base_forms all_forms  levels levels_frequency  levels_coverage\n",
       "56173          a         a       1                1                1\n",
       "1149          a1        a1      26                0               26\n",
       "1150         a11       a11      26                0               26\n",
       "1151        a168      a168      26                0               26\n",
       "1152         a19       a19      26                0               26\n",
       "...          ...       ...     ...              ...              ...\n",
       "30895     emigre   émigrés      12             5-25               12\n",
       "69601     esprit    ésprit      16             5-25               15\n",
       "89976     etoile    étoile      20             5-25               15\n",
       "52372     etudes     étude      15             5-25               15\n",
       "52373     etudes    études      15             5-25               15\n",
       "\n",
       "[105477 rows x 5 columns]"
      ]
     },
     "execution_count": 3,
     "metadata": {},
     "output_type": "execute_result"
    }
   ],
   "source": [
    "#df_nation grouped by level_frequency \n",
    "# 0 -> 26 (proper_names) , 27 (marginal_words), 28 (compounds), 29 (acronyms)\n",
    "# (5-25) -> levels from 5 to 15\n",
    "#df_nation grouped by levels_coverage\n",
    "# 15 -> (15: list between 15 and 25)\n",
    "\n",
    "# df_nation.groupby('levels').count()\n",
    "# df_nation.groupby('levels_frequency').count()\n",
    "df_nation.groupby('levels_coverage').count() \n",
    "df_nation.sort_values('all_forms')"
   ]
  },
  {
   "cell_type": "code",
   "execution_count": 4,
   "metadata": {
    "scrolled": true
   },
   "outputs": [],
   "source": [
    "# downloading series script\n",
    "df_got = pickle.load(open('df_got', 'rb'))\n",
    "df_got.reset_index(drop=True, inplace=True)"
   ]
  },
  {
   "cell_type": "code",
   "execution_count": 5,
   "metadata": {},
   "outputs": [],
   "source": [
    "#this data has cleaned transcripts but in a 'not' good way e.g. \"You're\" shows like 'youre' instead of 'you are'\n",
    "df_got_kaggle = pd.read_csv('got_scripts_breakdown.csv', delimiter=';')\n",
    "# s1e3 = ' '.join(df_got_kaggle[df_got_kaggle['Episode']=='lord snow']['Sentence'].values)\n",
    "# df_got.loc[df_got['season_episode_names']=='S1E3: Lord Snow', 'transcripts'] = s1e3"
   ]
  },
  {
   "cell_type": "markdown",
   "metadata": {},
   "source": [
    "### Cleaning non-English letters"
   ]
  },
  {
   "cell_type": "code",
   "execution_count": 8,
   "metadata": {},
   "outputs": [],
   "source": [
    "#'ν' --> 'v'\n",
    "df_got['transcripts'] = df_got['transcripts'].apply(lambda x:re.sub('ν', 'v', x))\n",
    "# 'l'--> i e.g. lmp (imposible) -> There's a problem coming from the source of the transcripts itself\n",
    "# all i in upper case are treated as l (l in lower case) Fortunately most of them are pronouns like 'I' , but some words starting with 'i' in upper case are lost (small %)"
   ]
  },
  {
   "cell_type": "code",
   "execution_count": 9,
   "metadata": {},
   "outputs": [],
   "source": [
    "df_got['raw_tokens'] = df_got['transcripts'].apply(lambda x:len(x.split()))"
   ]
  },
  {
   "cell_type": "code",
   "execution_count": 10,
   "metadata": {},
   "outputs": [
    {
     "name": "stdout",
     "output_type": "stream",
     "text": [
      "Min Raw: 2391\n",
      "Max Raw: 6254\n"
     ]
    }
   ],
   "source": [
    "#the difference between tokens_raw and tokens shouldn't be so much since only speaker's name,\n",
    "#words within parentheses and squarebrackets were removed\n",
    "print('Min Raw: ' + str(df_got['raw_tokens'].min()))\n",
    "# #and only contractions were added \"'n\" --> 'not'\n",
    "print('Max Raw: ' + str(df_got['raw_tokens'].max()))"
   ]
  },
  {
   "cell_type": "code",
   "execution_count": 11,
   "metadata": {},
   "outputs": [
    {
     "data": {
      "text/plain": [
       "<matplotlib.axes._subplots.AxesSubplot at 0x1a1c1ec890>"
      ]
     },
     "execution_count": 11,
     "metadata": {},
     "output_type": "execute_result"
    },
    {
     "data": {
      "image/png": "[encoded data removed]",
      "text/plain": [
       "<Figure size 432x288 with 1 Axes>"
      ]
     },
     "metadata": {
      "needs_background": "light"
     },
     "output_type": "display_data"
    }
   ],
   "source": [
    "sns.boxplot(x=df_got['raw_tokens'])"
   ]
  },
  {
   "cell_type": "code",
   "execution_count": 12,
   "metadata": {},
   "outputs": [],
   "source": [
    "# cleaning transcripts\n",
    "from cleaning import clean_transcripts\n",
    "\n",
    "round1 = lambda x: clean_transcripts(x)\n",
    "df_got['transcripts'] = df_got['transcripts'].apply(round1)"
   ]
  },
  {
   "cell_type": "code",
   "execution_count": 13,
   "metadata": {},
   "outputs": [],
   "source": [
    "# df_series_clean_except_transcripts.groupby('series_titles').count()\n",
    "df_got = df_got.assign(tokens=df_got['transcripts'].apply(lambda x:len(x.split())))"
   ]
  },
  {
   "cell_type": "code",
   "execution_count": 14,
   "metadata": {},
   "outputs": [
    {
     "name": "stdout",
     "output_type": "stream",
     "text": [
      "Min Raw: 2391, Min Clean: 2391\n",
      "Max Raw: 6254, Max Clean: 6254\n"
     ]
    }
   ],
   "source": [
    "#the difference between tokens_raw and tokens shouldn't be so much since only speaker's name,\n",
    "#words within parentheses and squarebrackets were removed\n",
    "print('Min Raw: ' + str(df_got['raw_tokens'].min()) + ', Min Clean: '+ str(df_got['tokens'].min()))\n",
    "# #and only contractions were added \"'n\" --> 'not'\n",
    "print('Max Raw: ' + str(df_got['raw_tokens'].max()) + ', Max Clean: '+ str(df_got['tokens'].max()))"
   ]
  },
  {
   "cell_type": "code",
   "execution_count": 15,
   "metadata": {},
   "outputs": [
    {
     "data": {
      "text/plain": [
       "<matplotlib.axes._subplots.AxesSubplot at 0x104e94350>"
      ]
     },
     "execution_count": 15,
     "metadata": {},
     "output_type": "execute_result"
    },
    {
     "data": {
      "image/png": "[encoded data removed]",
      "text/plain": [
       "<Figure size 432x288 with 1 Axes>"
      ]
     },
     "metadata": {
      "needs_background": "light"
     },
     "output_type": "display_data"
    }
   ],
   "source": [
    "sns.boxplot(x=df_got['tokens'])"
   ]
  },
  {
   "cell_type": "markdown",
   "metadata": {},
   "source": [
    "### Episodes with less dialogues (less words to worry about)"
   ]
  },
  {
   "cell_type": "code",
   "execution_count": 16,
   "metadata": {},
   "outputs": [
    {
     "data": {
      "text/html": [
       "<div>\n",
       "<style scoped>\n",
       "    .dataframe tbody tr th:only-of-type {\n",
       "        vertical-align: middle;\n",
       "    }\n",
       "\n",
       "    .dataframe tbody tr th {\n",
       "        vertical-align: top;\n",
       "    }\n",
       "\n",
       "    .dataframe thead th {\n",
       "        text-align: right;\n",
       "    }\n",
       "</style>\n",
       "<table border=\"1\" class=\"dataframe\">\n",
       "  <thead>\n",
       "    <tr style=\"text-align: right;\">\n",
       "      <th></th>\n",
       "      <th>transcripts</th>\n",
       "      <th>titles</th>\n",
       "      <th>years</th>\n",
       "      <th>seasons</th>\n",
       "      <th>season_episodes</th>\n",
       "      <th>season_episode_names</th>\n",
       "      <th>raw_tokens</th>\n",
       "      <th>tokens</th>\n",
       "    </tr>\n",
       "  </thead>\n",
       "  <tbody>\n",
       "    <tr>\n",
       "      <th>1</th>\n",
       "      <td>you need to drink child  and eat ls not there ...</td>\n",
       "      <td>game of thrones</td>\n",
       "      <td>2011</td>\n",
       "      <td>1</td>\n",
       "      <td>2</td>\n",
       "      <td>S1E2: The Kingsroad</td>\n",
       "      <td>2391</td>\n",
       "      <td>2391</td>\n",
       "    </tr>\n",
       "    <tr>\n",
       "      <th>50</th>\n",
       "      <td>it s coming from the courtyard it s the lord c...</td>\n",
       "      <td>game of thrones</td>\n",
       "      <td>2011</td>\n",
       "      <td>6</td>\n",
       "      <td>1</td>\n",
       "      <td>S6E1: The Red Woman</td>\n",
       "      <td>2473</td>\n",
       "      <td>2473</td>\n",
       "    </tr>\n",
       "    <tr>\n",
       "      <th>69</th>\n",
       "      <td>oi   mind out move    look on the west wa...</td>\n",
       "      <td>game of thrones</td>\n",
       "      <td>2011</td>\n",
       "      <td>8</td>\n",
       "      <td>3</td>\n",
       "      <td>S8E3: The Long Night</td>\n",
       "      <td>2736</td>\n",
       "      <td>2736</td>\n",
       "    </tr>\n",
       "    <tr>\n",
       "      <th>12</th>\n",
       "      <td>robb tomorrow you will ride south to the storm...</td>\n",
       "      <td>game of thrones</td>\n",
       "      <td>2011</td>\n",
       "      <td>2</td>\n",
       "      <td>3</td>\n",
       "      <td>S2E3: What Is Dead May Never Die</td>\n",
       "      <td>2833</td>\n",
       "      <td>2833</td>\n",
       "    </tr>\n",
       "    <tr>\n",
       "      <th>58</th>\n",
       "      <td>uploaded by somnath yadav follow on instagram ...</td>\n",
       "      <td>game of thrones</td>\n",
       "      <td>2011</td>\n",
       "      <td>6</td>\n",
       "      <td>9</td>\n",
       "      <td>S6E9: Battle of the Bastards</td>\n",
       "      <td>2891</td>\n",
       "      <td>2891</td>\n",
       "    </tr>\n",
       "  </tbody>\n",
       "</table>\n",
       "</div>"
      ],
      "text/plain": [
       "                                          transcripts           titles  years  \\\n",
       "1   you need to drink child  and eat ls not there ...  game of thrones   2011   \n",
       "50  it s coming from the courtyard it s the lord c...  game of thrones   2011   \n",
       "69       oi   mind out move    look on the west wa...  game of thrones   2011   \n",
       "12  robb tomorrow you will ride south to the storm...  game of thrones   2011   \n",
       "58  uploaded by somnath yadav follow on instagram ...  game of thrones   2011   \n",
       "\n",
       "    seasons  season_episodes              season_episode_names  raw_tokens  \\\n",
       "1         1                2               S1E2: The Kingsroad        2391   \n",
       "50        6                1               S6E1: The Red Woman        2473   \n",
       "69        8                3              S8E3: The Long Night        2736   \n",
       "12        2                3  S2E3: What Is Dead May Never Die        2833   \n",
       "58        6                9      S6E9: Battle of the Bastards        2891   \n",
       "\n",
       "    tokens  \n",
       "1     2391  \n",
       "50    2473  \n",
       "69    2736  \n",
       "12    2833  \n",
       "58    2891  "
      ]
     },
     "execution_count": 16,
     "metadata": {},
     "output_type": "execute_result"
    }
   ],
   "source": [
    "df_got.sort_values('raw_tokens')[:5]"
   ]
  },
  {
   "cell_type": "markdown",
   "metadata": {},
   "source": [
    "# Exploratory Data Analysis"
   ]
  },
  {
   "cell_type": "markdown",
   "metadata": {},
   "source": [
    "### Document-Term Matrix¶"
   ]
  },
  {
   "cell_type": "code",
   "execution_count": 17,
   "metadata": {},
   "outputs": [],
   "source": [
    "from sklearn.feature_extraction.text import CountVectorizer\n",
    "from sklearn.feature_extraction import text \n",
    "import scipy.sparse\n",
    "cv = CountVectorizer()#only misleading words excluded for the analysis\n",
    "cv_matrix = cv.fit_transform(df_got['transcripts'])\n",
    "df_dtm = pd.DataFrame.sparse.from_spmatrix(cv_matrix, index=df_got.index,\n",
    "                                           columns=cv.get_feature_names())"
   ]
  },
  {
   "cell_type": "code",
   "execution_count": 18,
   "metadata": {},
   "outputs": [],
   "source": [
    "df_dtm = df_dtm.T"
   ]
  },
  {
   "cell_type": "markdown",
   "metadata": {},
   "source": [
    "# Formula"
   ]
  },
  {
   "cell_type": "code",
   "execution_count": 19,
   "metadata": {},
   "outputs": [],
   "source": [
    "def get_frames(indices, dtm, thousand_level=None): #, thousand_level ['4'], ['5-14']\n",
    "    \"\"\"1. The df_dtm gives the number of times a word (all_forms) shows up in an episode/movie\n",
    "       2. Then its joined to get the level and base_forms of each word\n",
    "       3. The final df has the words counted for each episode so it can be seen base_forms repetition in the final df\"\"\"\n",
    "    frames = []\n",
    "    for index in indices:\n",
    "        df_count_words = dtm[[index]].loc[dtm[index]!=0]\n",
    "        df_count_words = df_count_words.reset_index()\n",
    "        df_count_words.rename(columns={\"index\": \"all_forms\", index: \"count\"}, inplace=True)\n",
    "\n",
    "        df_count_words_level = pd.merge(df_count_words, df_nation[['base_forms', 'all_forms',\n",
    "                                'levels_frequency', 'levels', 'levels_coverage']], how='left', on='all_forms', indicator=True)\n",
    "        df_count_words_level.loc[df_count_words_level['_merge']=='left_only', 'levels_coverage'] = 100\n",
    "        if thousand_level is not None: #only consider words in specific levels\n",
    "            df_count_words_level = df_count_words_level[df_count_words_level['levels_frequency'].isin(thousand_level)]\n",
    "        frames.append(df_count_words_level)\n",
    "    df_count_words_level = pd.concat(frames)\n",
    "    return df_count_words_level"
   ]
  },
  {
   "cell_type": "code",
   "execution_count": 20,
   "metadata": {},
   "outputs": [],
   "source": [
    "def get_coverage(indices, df_dtm):\n",
    "    frames = []\n",
    "    for episode_index in indices:\n",
    "        df_coverage_episode = get_frames([episode_index], df_dtm) ##\n",
    "        df_coverage_episode = df_coverage_episode[['count' ,'levels_coverage']].groupby('levels_coverage').sum()\n",
    "        df_coverage_episode.drop([28, 29], axis=0, inplace=True, errors='ignore')\n",
    "        df_coverage_episode['%'] = 100 * (round(df_coverage_episode['count']/\n",
    "                                            df_coverage_episode['count'].sum(), 4))\n",
    "        df_coverage_episode = df_coverage_episode.reset_index()\n",
    "        condition = [(df_coverage_episode['levels_coverage']<=4),\n",
    "            (df_coverage_episode['levels_coverage']>=5) & (df_coverage_episode['levels_coverage']<=15),\n",
    "                    (df_coverage_episode['levels_coverage']>=26)] #15 includes list from 15 to 25\n",
    "        values = [df_coverage_episode['levels_coverage'], 5, df_coverage_episode['levels_coverage']]\n",
    "        df_coverage_episode['lvl'] = np.select(condition, values)\n",
    "        df_coverage_episode = df_coverage_episode.groupby('lvl').sum()\n",
    "        df_coverage_episode['cumulative'] = df_coverage_episode['%'].cumsum()\n",
    "        if len(indices)==1:   \n",
    "            df_coverage_episode = df_coverage_episode[['count', '%']].T.reset_index(drop=True)\n",
    "        elif len(indices)>1:\n",
    "            df_coverage_episode = df_coverage_episode[['%']].T.reset_index(drop=True)\n",
    "            df_coverage_episode['index'] = episode_index\n",
    "        frames.append(df_coverage_episode)\n",
    "    return frames"
   ]
  },
  {
   "cell_type": "markdown",
   "metadata": {},
   "source": [
    "### Vocabulary coverage of a random episode"
   ]
  },
  {
   "cell_type": "code",
   "execution_count": 21,
   "metadata": {},
   "outputs": [
    {
     "data": {
      "text/html": [
       "<div>\n",
       "<style scoped>\n",
       "    .dataframe tbody tr th:only-of-type {\n",
       "        vertical-align: middle;\n",
       "    }\n",
       "\n",
       "    .dataframe tbody tr th {\n",
       "        vertical-align: top;\n",
       "    }\n",
       "\n",
       "    .dataframe thead th {\n",
       "        text-align: right;\n",
       "    }\n",
       "</style>\n",
       "<table border=\"1\" class=\"dataframe\">\n",
       "  <thead>\n",
       "    <tr style=\"text-align: right;\">\n",
       "      <th></th>\n",
       "      <th>count</th>\n",
       "      <th>%</th>\n",
       "    </tr>\n",
       "    <tr>\n",
       "      <th>lvl</th>\n",
       "      <th></th>\n",
       "      <th></th>\n",
       "    </tr>\n",
       "  </thead>\n",
       "  <tbody>\n",
       "    <tr>\n",
       "      <th>1.0</th>\n",
       "      <td>3501.0</td>\n",
       "      <td>85.91</td>\n",
       "    </tr>\n",
       "    <tr>\n",
       "      <th>2.0</th>\n",
       "      <td>204.0</td>\n",
       "      <td>5.01</td>\n",
       "    </tr>\n",
       "    <tr>\n",
       "      <th>3.0</th>\n",
       "      <td>47.0</td>\n",
       "      <td>1.15</td>\n",
       "    </tr>\n",
       "    <tr>\n",
       "      <th>4.0</th>\n",
       "      <td>52.0</td>\n",
       "      <td>1.28</td>\n",
       "    </tr>\n",
       "    <tr>\n",
       "      <th>5.0</th>\n",
       "      <td>124.0</td>\n",
       "      <td>3.05</td>\n",
       "    </tr>\n",
       "    <tr>\n",
       "      <th>Character names</th>\n",
       "      <td>33.0</td>\n",
       "      <td>0.81</td>\n",
       "    </tr>\n",
       "    <tr>\n",
       "      <th>Interjections</th>\n",
       "      <td>7.0</td>\n",
       "      <td>0.17</td>\n",
       "    </tr>\n",
       "    <tr>\n",
       "      <th>Game of Thrones words</th>\n",
       "      <td>107.0</td>\n",
       "      <td>2.63</td>\n",
       "    </tr>\n",
       "  </tbody>\n",
       "</table>\n",
       "</div>"
      ],
      "text/plain": [
       "                        count      %\n",
       "lvl                                 \n",
       "1.0                    3501.0  85.91\n",
       "2.0                     204.0   5.01\n",
       "3.0                      47.0   1.15\n",
       "4.0                      52.0   1.28\n",
       "5.0                     124.0   3.05\n",
       "Character names          33.0   0.81\n",
       "Interjections             7.0   0.17\n",
       "Game of Thrones words   107.0   2.63"
      ]
     },
     "execution_count": 21,
     "metadata": {},
     "output_type": "execute_result"
    }
   ],
   "source": [
    "index = 20 #episode number is different from index!!!\n",
    "series_name = 'Game of Thrones'\n",
    "df_random_episode = get_coverage([index], df_dtm)[0]\n",
    "df_random_episode.rename(columns={26:'Character names', 27:'Interjections', \n",
    "                                  100:series_name+\" words\"}, inplace=True)\n",
    "df_random_episode.T.rename(columns={0:'count', 1:'%'})"
   ]
  },
  {
   "cell_type": "markdown",
   "metadata": {},
   "source": [
    "### Unique words in the TV show"
   ]
  },
  {
   "cell_type": "code",
   "execution_count": 22,
   "metadata": {
    "scrolled": true
   },
   "outputs": [],
   "source": [
    "df_words_series = get_frames(df_got.index.values, df_dtm)\n",
    "df_words_series = df_words_series[['all_forms', 'count', 'levels_coverage']]\n",
    "df_words_series = df_words_series[df_words_series['levels_coverage']==100]\n",
    "df_words_series\n",
    "\n",
    "#check .groupby sparse(int64)\n",
    "list_words = list(df_words_series['all_forms'])\n",
    "list_count = list(df_words_series['count'])"
   ]
  },
  {
   "cell_type": "code",
   "execution_count": 23,
   "metadata": {},
   "outputs": [
    {
     "data": {
      "text/html": [
       "<div>\n",
       "<style scoped>\n",
       "    .dataframe tbody tr th:only-of-type {\n",
       "        vertical-align: middle;\n",
       "    }\n",
       "\n",
       "    .dataframe tbody tr th {\n",
       "        vertical-align: top;\n",
       "    }\n",
       "\n",
       "    .dataframe thead th {\n",
       "        text-align: right;\n",
       "    }\n",
       "</style>\n",
       "<table border=\"1\" class=\"dataframe\">\n",
       "  <thead>\n",
       "    <tr style=\"text-align: right;\">\n",
       "      <th></th>\n",
       "      <th>all_forms</th>\n",
       "      <th>count</th>\n",
       "      <th>levels_coverage</th>\n",
       "    </tr>\n",
       "  </thead>\n",
       "  <tbody>\n",
       "    <tr>\n",
       "      <th>6</th>\n",
       "      <td>aegon</td>\n",
       "      <td>1</td>\n",
       "      <td>100.0</td>\n",
       "    </tr>\n",
       "    <tr>\n",
       "      <th>22</th>\n",
       "      <td>alys</td>\n",
       "      <td>2</td>\n",
       "      <td>100.0</td>\n",
       "    </tr>\n",
       "    <tr>\n",
       "      <th>27</th>\n",
       "      <td>andals</td>\n",
       "      <td>1</td>\n",
       "      <td>100.0</td>\n",
       "    </tr>\n",
       "    <tr>\n",
       "      <th>37</th>\n",
       "      <td>archmaester</td>\n",
       "      <td>2</td>\n",
       "      <td>100.0</td>\n",
       "    </tr>\n",
       "    <tr>\n",
       "      <th>61</th>\n",
       "      <td>baelish</td>\n",
       "      <td>2</td>\n",
       "      <td>100.0</td>\n",
       "    </tr>\n",
       "    <tr>\n",
       "      <th>...</th>\n",
       "      <td>...</td>\n",
       "      <td>...</td>\n",
       "      <td>...</td>\n",
       "    </tr>\n",
       "    <tr>\n",
       "      <th>651</th>\n",
       "      <td>tyrion</td>\n",
       "      <td>3</td>\n",
       "      <td>100.0</td>\n",
       "    </tr>\n",
       "    <tr>\n",
       "      <th>652</th>\n",
       "      <td>tywin</td>\n",
       "      <td>1</td>\n",
       "      <td>100.0</td>\n",
       "    </tr>\n",
       "    <tr>\n",
       "      <th>656</th>\n",
       "      <td>underst</td>\n",
       "      <td>1</td>\n",
       "      <td>100.0</td>\n",
       "    </tr>\n",
       "    <tr>\n",
       "      <th>666</th>\n",
       "      <td>varys</td>\n",
       "      <td>2</td>\n",
       "      <td>100.0</td>\n",
       "    </tr>\n",
       "    <tr>\n",
       "      <th>693</th>\n",
       "      <td>westeros</td>\n",
       "      <td>4</td>\n",
       "      <td>100.0</td>\n",
       "    </tr>\n",
       "  </tbody>\n",
       "</table>\n",
       "<p>4399 rows × 3 columns</p>\n",
       "</div>"
      ],
      "text/plain": [
       "       all_forms  count  levels_coverage\n",
       "6          aegon      1            100.0\n",
       "22          alys      2            100.0\n",
       "27        andals      1            100.0\n",
       "37   archmaester      2            100.0\n",
       "61       baelish      2            100.0\n",
       "..           ...    ...              ...\n",
       "651       tyrion      3            100.0\n",
       "652        tywin      1            100.0\n",
       "656      underst      1            100.0\n",
       "666        varys      2            100.0\n",
       "693     westeros      4            100.0\n",
       "\n",
       "[4399 rows x 3 columns]"
      ]
     },
     "execution_count": 23,
     "metadata": {},
     "output_type": "execute_result"
    }
   ],
   "source": [
    "df_test = get_frames(df_got.index.values, df_dtm)\n",
    "df_test = df_test[['all_forms', 'count', 'levels_coverage']]\n",
    "df_test = df_test[df_test['levels_coverage']==100]\n",
    "df_test"
   ]
  },
  {
   "cell_type": "markdown",
   "metadata": {},
   "source": [
    "### Wordcloud"
   ]
  },
  {
   "cell_type": "code",
   "execution_count": 24,
   "metadata": {
    "scrolled": true
   },
   "outputs": [],
   "source": [
    "#top50\n",
    "character_name = pd.read_csv('got_scripts_breakdown.csv', delimiter=';').groupby(\n",
    "    'Name').count().sort_values('Column1', ascending=False)[:100].index.values\n",
    "character_name = list(character_name)\n",
    "clean_words = ['youre', 'dont', 'didnt', 'youll', 'youve', 'shes', 'doesnt']\n",
    "character_name.extend(clean_words)\n",
    "\n",
    "df_words_series = pd.DataFrame({'words':list_words, 'count':list_count})\n",
    "df_words_series = df_words_series.groupby('words', as_index=False).sum().sort_values('count', ascending=False)\n",
    "\n",
    "# words only found in the series excluding character names\n",
    "df_words_series = df_words_series[~df_words_series['words'].isin(character_name)]"
   ]
  },
  {
   "cell_type": "code",
   "execution_count": 25,
   "metadata": {},
   "outputs": [],
   "source": [
    "df_words_series['words'] = df_words_series['words'].apply(lambda x:x+' ')\n",
    "df_words_series['text'] = df_words_series['words']*df_words_series['count']\n",
    "got_words = ''.join(df_words_series['text'])"
   ]
  },
  {
   "cell_type": "code",
   "execution_count": 26,
   "metadata": {},
   "outputs": [],
   "source": [
    "import stylecloud\n",
    "from wordcloud import STOPWORDS\n",
    "\n",
    "stylecloud.gen_stylecloud(got_words, palette=\"cmocean.sequential.Matter_16\", \n",
    "                          background_color=\"white\", icon_name= \"fas fa-dragon\",\n",
    "                          colors=['#900C3F', '#900C3F', '#900C3F'], collocations=False)"
   ]
  },
  {
   "cell_type": "markdown",
   "metadata": {},
   "source": [
    "### Lines per character"
   ]
  },
  {
   "cell_type": "code",
   "execution_count": 27,
   "metadata": {
    "scrolled": true
   },
   "outputs": [
    {
     "name": "stdout",
     "output_type": "stream",
     "text": [
      "Season 1, 103.0, 118.0, 127.0, 0.0, 82.0, 139.0, 111.0, 52.0, 100.0, 212.0\n",
      "Season 2, 129.0, 177.0, 136.0, 95.0, 71.0, 101.0, 79.0, 49.0, 80.0, 345.0\n",
      "Season 3, 109.0, 102.0, 117.0, 96.0, 132.0, 90.0, 42.0, 73.0, 96.0, 242.0\n",
      "Season 4, 101.0, 160.0, 102.0, 47.0, 183.0, 138.0, 72.0, 102.0, 99.0, 225.0\n",
      "Season 5, 79.0, 188.0, 128.0, 52.0, 104.0, 162.0, 91.0, 99.0, 95.0, 186.0\n",
      "Season 6, 64.0, 84.0, 89.0, 99.0, 118.0, 111.0, 34.0, 50.0, 113.0, 160.0\n",
      "Season 7, 105.0, 155.0, 162.0, 79.0, 152.0, 213.0, 46.0, 67.0, 136.0, 167.0\n"
     ]
    }
   ],
   "source": [
    "df_top_lines = df_got_kaggle.groupby(['Name', 'Season'], as_index=False)[['Sentence']].count().sort_values('Sentence', ascending=False)\n",
    "df_top_lines = df_top_lines[df_top_lines['Name'].isin(character_name[:10])]\n",
    "\n",
    "df_top_lines = pd.pivot_table(df_top_lines, values='Sentence', index='Season', columns='Name', aggfunc=np.sum)\n",
    "df_top_lines = df_top_lines.fillna(0)\n",
    "for i in df_top_lines.reset_index().values:\n",
    "    print(str(i[0])+', '+str(i[1])+', '+str(i[2])+', '+str(i[3])+', '+str(i[4])+\n",
    "          ', '+str(i[5])+', '+str(i[6])+', '+str(i[7])+', '+str(i[8])+', '+str(i[9])+', '+str(i[10]))"
   ]
  },
  {
   "cell_type": "markdown",
   "metadata": {},
   "source": [
    "### Vocabulary coverage of the average GoT episode - Should I watch Friends, The Simpsons or GoT?"
   ]
  },
  {
   "cell_type": "code",
   "execution_count": 28,
   "metadata": {},
   "outputs": [],
   "source": [
    "frames = get_coverage(df_got.index.values, df_dtm)"
   ]
  },
  {
   "cell_type": "code",
   "execution_count": 29,
   "metadata": {},
   "outputs": [
    {
     "data": {
      "text/plain": [
       "lvl\n",
       "1.0      86.023562\n",
       "2.0       4.726712\n",
       "3.0       1.273562\n",
       "4.0       1.228630\n",
       "5.0       2.417397\n",
       "26.0      0.844658\n",
       "27.0      0.458493\n",
       "100.0     3.030274\n",
       "dtype: float64"
      ]
     },
     "execution_count": 29,
     "metadata": {},
     "output_type": "execute_result"
    }
   ],
   "source": [
    "pd.concat(frames, axis=0, ignore_index=True)[[1, 2, 3, 4, 5, 26, 27, 100]].mean()"
   ]
  },
  {
   "cell_type": "markdown",
   "metadata": {},
   "source": [
    "### Vocabulary coverage in all episodes"
   ]
  },
  {
   "cell_type": "code",
   "execution_count": 30,
   "metadata": {
    "scrolled": true
   },
   "outputs": [
    {
     "data": {
      "text/html": [
       "<div>\n",
       "<style scoped>\n",
       "    .dataframe tbody tr th:only-of-type {\n",
       "        vertical-align: middle;\n",
       "    }\n",
       "\n",
       "    .dataframe tbody tr th {\n",
       "        vertical-align: top;\n",
       "    }\n",
       "\n",
       "    .dataframe thead th {\n",
       "        text-align: right;\n",
       "    }\n",
       "</style>\n",
       "<table border=\"1\" class=\"dataframe\">\n",
       "  <thead>\n",
       "    <tr style=\"text-align: right;\">\n",
       "      <th></th>\n",
       "      <th>1.0</th>\n",
       "      <th>2.0</th>\n",
       "      <th>3.0</th>\n",
       "      <th>4.0</th>\n",
       "      <th>5.0</th>\n",
       "      <th>26.0</th>\n",
       "      <th>27.0</th>\n",
       "      <th>100.0</th>\n",
       "      <th>Lvl 1</th>\n",
       "      <th>Lvl 1+2</th>\n",
       "      <th>Lvl 1+2+3</th>\n",
       "      <th>Lvl 1+2+3+4</th>\n",
       "      <th>season_episode_names</th>\n",
       "      <th>seasons</th>\n",
       "    </tr>\n",
       "  </thead>\n",
       "  <tbody>\n",
       "    <tr>\n",
       "      <th>0</th>\n",
       "      <td>86.13</td>\n",
       "      <td>5.19</td>\n",
       "      <td>1.55</td>\n",
       "      <td>1.23</td>\n",
       "      <td>2.14</td>\n",
       "      <td>0.63</td>\n",
       "      <td>0.45</td>\n",
       "      <td>2.68</td>\n",
       "      <td>89.89</td>\n",
       "      <td>95.08</td>\n",
       "      <td>96.63</td>\n",
       "      <td>97.86</td>\n",
       "      <td>S1E1: Winter Is Coming</td>\n",
       "      <td>1</td>\n",
       "    </tr>\n",
       "    <tr>\n",
       "      <th>1</th>\n",
       "      <td>86.88</td>\n",
       "      <td>4.12</td>\n",
       "      <td>0.90</td>\n",
       "      <td>1.81</td>\n",
       "      <td>2.69</td>\n",
       "      <td>0.95</td>\n",
       "      <td>0.54</td>\n",
       "      <td>2.13</td>\n",
       "      <td>90.50</td>\n",
       "      <td>94.62</td>\n",
       "      <td>95.52</td>\n",
       "      <td>97.33</td>\n",
       "      <td>S1E2: The Kingsroad</td>\n",
       "      <td>1</td>\n",
       "    </tr>\n",
       "    <tr>\n",
       "      <th>2</th>\n",
       "      <td>83.48</td>\n",
       "      <td>5.18</td>\n",
       "      <td>1.13</td>\n",
       "      <td>1.67</td>\n",
       "      <td>2.82</td>\n",
       "      <td>0.68</td>\n",
       "      <td>0.24</td>\n",
       "      <td>4.81</td>\n",
       "      <td>89.21</td>\n",
       "      <td>94.39</td>\n",
       "      <td>95.52</td>\n",
       "      <td>97.19</td>\n",
       "      <td>S1E3: Lord Snow</td>\n",
       "      <td>1</td>\n",
       "    </tr>\n",
       "    <tr>\n",
       "      <th>3</th>\n",
       "      <td>84.97</td>\n",
       "      <td>4.20</td>\n",
       "      <td>1.19</td>\n",
       "      <td>1.21</td>\n",
       "      <td>2.95</td>\n",
       "      <td>1.00</td>\n",
       "      <td>0.60</td>\n",
       "      <td>3.89</td>\n",
       "      <td>90.46</td>\n",
       "      <td>94.66</td>\n",
       "      <td>95.85</td>\n",
       "      <td>97.06</td>\n",
       "      <td>S1E4: Cripples, Bastards, and Broken Things</td>\n",
       "      <td>1</td>\n",
       "    </tr>\n",
       "    <tr>\n",
       "      <th>4</th>\n",
       "      <td>85.76</td>\n",
       "      <td>3.61</td>\n",
       "      <td>1.18</td>\n",
       "      <td>1.17</td>\n",
       "      <td>2.95</td>\n",
       "      <td>0.97</td>\n",
       "      <td>0.80</td>\n",
       "      <td>3.55</td>\n",
       "      <td>91.08</td>\n",
       "      <td>94.69</td>\n",
       "      <td>95.87</td>\n",
       "      <td>97.04</td>\n",
       "      <td>S1E5: The Wolf and the Lion</td>\n",
       "      <td>1</td>\n",
       "    </tr>\n",
       "    <tr>\n",
       "      <th>...</th>\n",
       "      <td>...</td>\n",
       "      <td>...</td>\n",
       "      <td>...</td>\n",
       "      <td>...</td>\n",
       "      <td>...</td>\n",
       "      <td>...</td>\n",
       "      <td>...</td>\n",
       "      <td>...</td>\n",
       "      <td>...</td>\n",
       "      <td>...</td>\n",
       "      <td>...</td>\n",
       "      <td>...</td>\n",
       "      <td>...</td>\n",
       "      <td>...</td>\n",
       "    </tr>\n",
       "    <tr>\n",
       "      <th>68</th>\n",
       "      <td>89.52</td>\n",
       "      <td>3.78</td>\n",
       "      <td>1.01</td>\n",
       "      <td>0.77</td>\n",
       "      <td>1.93</td>\n",
       "      <td>0.71</td>\n",
       "      <td>0.39</td>\n",
       "      <td>1.87</td>\n",
       "      <td>92.49</td>\n",
       "      <td>96.27</td>\n",
       "      <td>97.28</td>\n",
       "      <td>98.05</td>\n",
       "      <td>S8E2: A Knight of the Seven Kingdoms</td>\n",
       "      <td>8</td>\n",
       "    </tr>\n",
       "    <tr>\n",
       "      <th>69</th>\n",
       "      <td>88.02</td>\n",
       "      <td>4.37</td>\n",
       "      <td>1.74</td>\n",
       "      <td>0.54</td>\n",
       "      <td>1.94</td>\n",
       "      <td>0.85</td>\n",
       "      <td>0.54</td>\n",
       "      <td>2.01</td>\n",
       "      <td>91.42</td>\n",
       "      <td>95.79</td>\n",
       "      <td>97.53</td>\n",
       "      <td>98.07</td>\n",
       "      <td>S8E3: The Long Night</td>\n",
       "      <td>8</td>\n",
       "    </tr>\n",
       "    <tr>\n",
       "      <th>70</th>\n",
       "      <td>88.15</td>\n",
       "      <td>4.55</td>\n",
       "      <td>1.06</td>\n",
       "      <td>0.91</td>\n",
       "      <td>1.61</td>\n",
       "      <td>0.59</td>\n",
       "      <td>0.63</td>\n",
       "      <td>2.48</td>\n",
       "      <td>91.85</td>\n",
       "      <td>96.40</td>\n",
       "      <td>97.46</td>\n",
       "      <td>98.37</td>\n",
       "      <td>S8E4: The Last of the Starks</td>\n",
       "      <td>8</td>\n",
       "    </tr>\n",
       "    <tr>\n",
       "      <th>71</th>\n",
       "      <td>89.02</td>\n",
       "      <td>5.26</td>\n",
       "      <td>1.18</td>\n",
       "      <td>0.90</td>\n",
       "      <td>1.15</td>\n",
       "      <td>0.73</td>\n",
       "      <td>0.15</td>\n",
       "      <td>1.63</td>\n",
       "      <td>91.53</td>\n",
       "      <td>96.79</td>\n",
       "      <td>97.97</td>\n",
       "      <td>98.87</td>\n",
       "      <td>S8E5: The Bells</td>\n",
       "      <td>8</td>\n",
       "    </tr>\n",
       "    <tr>\n",
       "      <th>72</th>\n",
       "      <td>87.91</td>\n",
       "      <td>4.24</td>\n",
       "      <td>1.33</td>\n",
       "      <td>1.47</td>\n",
       "      <td>2.04</td>\n",
       "      <td>0.46</td>\n",
       "      <td>0.49</td>\n",
       "      <td>2.07</td>\n",
       "      <td>90.93</td>\n",
       "      <td>95.17</td>\n",
       "      <td>96.50</td>\n",
       "      <td>97.97</td>\n",
       "      <td>S8E6: The Iron Throne</td>\n",
       "      <td>8</td>\n",
       "    </tr>\n",
       "  </tbody>\n",
       "</table>\n",
       "<p>73 rows × 14 columns</p>\n",
       "</div>"
      ],
      "text/plain": [
       "      1.0   2.0   3.0   4.0   5.0  26.0  27.0  100.0  Lvl 1  Lvl 1+2  \\\n",
       "0   86.13  5.19  1.55  1.23  2.14  0.63  0.45   2.68  89.89    95.08   \n",
       "1   86.88  4.12  0.90  1.81  2.69  0.95  0.54   2.13  90.50    94.62   \n",
       "2   83.48  5.18  1.13  1.67  2.82  0.68  0.24   4.81  89.21    94.39   \n",
       "3   84.97  4.20  1.19  1.21  2.95  1.00  0.60   3.89  90.46    94.66   \n",
       "4   85.76  3.61  1.18  1.17  2.95  0.97  0.80   3.55  91.08    94.69   \n",
       "..    ...   ...   ...   ...   ...   ...   ...    ...    ...      ...   \n",
       "68  89.52  3.78  1.01  0.77  1.93  0.71  0.39   1.87  92.49    96.27   \n",
       "69  88.02  4.37  1.74  0.54  1.94  0.85  0.54   2.01  91.42    95.79   \n",
       "70  88.15  4.55  1.06  0.91  1.61  0.59  0.63   2.48  91.85    96.40   \n",
       "71  89.02  5.26  1.18  0.90  1.15  0.73  0.15   1.63  91.53    96.79   \n",
       "72  87.91  4.24  1.33  1.47  2.04  0.46  0.49   2.07  90.93    95.17   \n",
       "\n",
       "    Lvl 1+2+3  Lvl 1+2+3+4                         season_episode_names  \\\n",
       "0       96.63        97.86                       S1E1: Winter Is Coming   \n",
       "1       95.52        97.33                          S1E2: The Kingsroad   \n",
       "2       95.52        97.19                              S1E3: Lord Snow   \n",
       "3       95.85        97.06  S1E4: Cripples, Bastards, and Broken Things   \n",
       "4       95.87        97.04                  S1E5: The Wolf and the Lion   \n",
       "..        ...          ...                                          ...   \n",
       "68      97.28        98.05         S8E2: A Knight of the Seven Kingdoms   \n",
       "69      97.53        98.07                         S8E3: The Long Night   \n",
       "70      97.46        98.37                 S8E4: The Last of the Starks   \n",
       "71      97.97        98.87                              S8E5: The Bells   \n",
       "72      96.50        97.97                        S8E6: The Iron Throne   \n",
       "\n",
       "    seasons  \n",
       "0         1  \n",
       "1         1  \n",
       "2         1  \n",
       "3         1  \n",
       "4         1  \n",
       "..      ...  \n",
       "68        8  \n",
       "69        8  \n",
       "70        8  \n",
       "71        8  \n",
       "72        8  \n",
       "\n",
       "[73 rows x 14 columns]"
      ]
     },
     "execution_count": 30,
     "metadata": {},
     "output_type": "execute_result"
    }
   ],
   "source": [
    "df_statistics = pd.concat(frames, axis=0, ignore_index=True)[['index', 1, 2, 3, 4, 5, 26, 27, 100]]\n",
    "#assume you know interjections, character names and words created in the tv series\n",
    "df_statistics['Lvl 1'] = df_statistics[1] + df_statistics[26] + df_statistics[27] + df_statistics[100]\n",
    "df_statistics['Lvl 1+2'] = df_statistics['Lvl 1'] + df_statistics[2]\n",
    "df_statistics['Lvl 1+2+3'] = df_statistics['Lvl 1+2'] + df_statistics[3]\n",
    "df_statistics['Lvl 1+2+3+4'] = df_statistics['Lvl 1+2+3'] + df_statistics[4]\n",
    "df_statistics = pd.concat((df_statistics.set_index('index'), df_got[['season_episode_names', 'seasons']]), axis=1)\n",
    "df_statistics"
   ]
  },
  {
   "cell_type": "markdown",
   "metadata": {},
   "source": [
    "### Top 10 GoT episodes (easies vocabulary)"
   ]
  },
  {
   "cell_type": "code",
   "execution_count": 31,
   "metadata": {},
   "outputs": [
    {
     "name": "stdout",
     "output_type": "stream",
     "text": [
      "S6E3: Oathbreaker\n",
      "S7E6: Beyond the Wall\n",
      "S8E2: A Knight of the Seven Kingdoms\n",
      "S2E4: Garden of Bones\n",
      "S2E10: Valar Morghulis\n",
      "S8E4: The Last of the Starks\n",
      "S3E6: The Climb\n",
      "S8E5: The Bells\n",
      "S2E1: The North Remembers\n",
      "S3E2: Dark Wings, Dark Words\n"
     ]
    }
   ],
   "source": [
    "for i in df_statistics.sort_values(['Lvl 1'], ascending=False)[:10].values:\n",
    "    print(i[12])"
   ]
  },
  {
   "cell_type": "markdown",
   "metadata": {},
   "source": [
    "### ScatterPlot"
   ]
  },
  {
   "cell_type": "code",
   "execution_count": 32,
   "metadata": {},
   "outputs": [],
   "source": [
    "#preparing data\n",
    "df_1 = df_statistics[['Lvl 1', 'season_episode_names']]\n",
    "df_1 = df_1.assign(label = 'Lvl 1')\n",
    "df_1.rename(columns={'Lvl 1':'lvl'}, inplace=True)\n",
    "df_2 = df_statistics[['Lvl 1+2', 'season_episode_names']]\n",
    "df_2 = df_2.assign(label = 'Lvl 1+2')\n",
    "df_2.rename(columns={'Lvl 1+2':'lvl'}, inplace=True)\n",
    "df_3 = df_statistics[['Lvl 1+2+3', 'season_episode_names']]\n",
    "df_3 = df_3.assign(label = 'Lvl 1+2+3')\n",
    "df_3.rename(columns={'Lvl 1+2+3':'lvl'}, inplace=True)\n",
    "df_4 = df_statistics[['Lvl 1+2+3+4', 'season_episode_names']]\n",
    "df_4 = df_4.assign(label = 'Lvl 1+2+3+4')\n",
    "df_4.rename(columns={'Lvl 1+2+3+4':'lvl'}, inplace=True)\n",
    "df_dot = pd.concat([df_1, df_2, df_3, df_4])\n",
    "df_dot['lvl'] = df_dot['lvl'].apply(lambda x:round(x,1))"
   ]
  },
  {
   "cell_type": "code",
   "execution_count": 33,
   "metadata": {},
   "outputs": [],
   "source": [
    "episode_count = []\n",
    "\n",
    "for index, percentage in enumerate(df_dot['lvl']):\n",
    "    subset = df_dot.iloc[:index+1]    # Create subset starting at the beginning of dataset until the episode\n",
    "    count = len(subset[subset['lvl'] == percentage])   # Count all episode with same % in this subset\n",
    "    episode_count.append(count)\n",
    "    \n",
    "df_dot['count'] = episode_count"
   ]
  },
  {
   "cell_type": "code",
   "execution_count": 34,
   "metadata": {},
   "outputs": [],
   "source": [
    "df_dot['season_episode_names'] = df_dot['season_episode_names'].apply(lambda x:re.sub(',', '', x))"
   ]
  },
  {
   "cell_type": "code",
   "execution_count": 48,
   "metadata": {
    "scrolled": true
   },
   "outputs": [],
   "source": [
    "# data for DataWrapper\n",
    "# for i in df_dot.values:\n",
    "#     print(i[1] + ' , ' + i[2] + ' , ' + str(i[3]) + ' , ' + str(i[0]))"
   ]
  },
  {
   "cell_type": "code",
   "execution_count": 50,
   "metadata": {},
   "outputs": [
    {
     "data": {
      "image/png": "[encoded data removed]",
      "text/plain": [
       "<Figure size 1008x576 with 1 Axes>"
      ]
     },
     "metadata": {},
     "output_type": "display_data"
    }
   ],
   "source": [
    "#Static plot\n",
    "sns.set_style(\"whitegrid\")\n",
    "fig, ax = plt.subplots(figsize=(14, 8))\n",
    "ax = sns.scatterplot(x='lvl', y='count', data=df_dot,\n",
    "             hue='label', s=100, ax=ax, palette=\"deep\")\n",
    "\n",
    "# Interactive plot\n",
    "# import plotly.graph_objs as go\n",
    "# from plotly.offline import iplot, init_notebook_mode\n",
    "# init_notebook_mode()\n",
    "\n",
    "# fig = go.Figure()\n",
    "# for genre, df_genre in df_dot.groupby('label'):\n",
    "#     fig.add_scatter(x=df_genre[\"lvl\"], y=df_genre['count'], text=df_genre['season_episode_names'],\n",
    "#     name=genre, mode='markers')\n",
    "# iplot(fig)"
   ]
  },
  {
   "cell_type": "markdown",
   "metadata": {},
   "source": [
    "### What hard words are they saying across all GoT episodes?"
   ]
  },
  {
   "cell_type": "code",
   "execution_count": 37,
   "metadata": {},
   "outputs": [],
   "source": [
    "frames_2 = []\n",
    "for episode_index in df_got.index.values:\n",
    "    df_vocabulary_episode = get_frames([episode_index], df_dtm, ['3', '4', '5-25'])\n",
    "    df_vocabulary_episode['index'] = episode_index\n",
    "    frames_2.append(df_vocabulary_episode)"
   ]
  },
  {
   "cell_type": "code",
   "execution_count": 47,
   "metadata": {},
   "outputs": [
    {
     "data": {
      "text/html": [
       "<div>\n",
       "<style scoped>\n",
       "    .dataframe tbody tr th:only-of-type {\n",
       "        vertical-align: middle;\n",
       "    }\n",
       "\n",
       "    .dataframe tbody tr th {\n",
       "        vertical-align: top;\n",
       "    }\n",
       "\n",
       "    .dataframe thead th {\n",
       "        text-align: right;\n",
       "    }\n",
       "</style>\n",
       "<table border=\"1\" class=\"dataframe\">\n",
       "  <thead>\n",
       "    <tr style=\"text-align: right;\">\n",
       "      <th></th>\n",
       "      <th>all_forms</th>\n",
       "      <th>count</th>\n",
       "      <th>base_forms</th>\n",
       "      <th>levels_frequency</th>\n",
       "      <th>season_episode_names</th>\n",
       "    </tr>\n",
       "  </thead>\n",
       "  <tbody>\n",
       "    <tr>\n",
       "      <th>0</th>\n",
       "      <td>ale</td>\n",
       "      <td>1</td>\n",
       "      <td>ale</td>\n",
       "      <td>5-25</td>\n",
       "      <td>S1E1: Winter Is Coming</td>\n",
       "    </tr>\n",
       "    <tr>\n",
       "      <th>1</th>\n",
       "      <td>allies</td>\n",
       "      <td>7</td>\n",
       "      <td>ally</td>\n",
       "      <td>3</td>\n",
       "      <td>S1E1: Winter Is Coming</td>\n",
       "    </tr>\n",
       "    <tr>\n",
       "      <th>2</th>\n",
       "      <td>alongside</td>\n",
       "      <td>1</td>\n",
       "      <td>alongside</td>\n",
       "      <td>3</td>\n",
       "      <td>S1E1: Winter Is Coming</td>\n",
       "    </tr>\n",
       "    <tr>\n",
       "      <th>3</th>\n",
       "      <td>ancestral</td>\n",
       "      <td>1</td>\n",
       "      <td>ancestor</td>\n",
       "      <td>4</td>\n",
       "      <td>S1E1: Winter Is Coming</td>\n",
       "    </tr>\n",
       "    <tr>\n",
       "      <th>4</th>\n",
       "      <td>arbor</td>\n",
       "      <td>1</td>\n",
       "      <td>arbour</td>\n",
       "      <td>5-25</td>\n",
       "      <td>S1E1: Winter Is Coming</td>\n",
       "    </tr>\n",
       "    <tr>\n",
       "      <th>...</th>\n",
       "      <td>...</td>\n",
       "      <td>...</td>\n",
       "      <td>...</td>\n",
       "      <td>...</td>\n",
       "      <td>...</td>\n",
       "    </tr>\n",
       "    <tr>\n",
       "      <th>10378</th>\n",
       "      <td>tyrant</td>\n",
       "      <td>2</td>\n",
       "      <td>tyrant</td>\n",
       "      <td>5-25</td>\n",
       "      <td>S8E6: The Iron Throne</td>\n",
       "    </tr>\n",
       "    <tr>\n",
       "      <th>10379</th>\n",
       "      <td>unsullied</td>\n",
       "      <td>5</td>\n",
       "      <td>sully</td>\n",
       "      <td>5-25</td>\n",
       "      <td>S8E6: The Iron Throne</td>\n",
       "    </tr>\n",
       "    <tr>\n",
       "      <th>10380</th>\n",
       "      <td>vanity</td>\n",
       "      <td>1</td>\n",
       "      <td>vanity</td>\n",
       "      <td>5-25</td>\n",
       "      <td>S8E6: The Iron Throne</td>\n",
       "    </tr>\n",
       "    <tr>\n",
       "      <th>10381</th>\n",
       "      <td>veteran</td>\n",
       "      <td>1</td>\n",
       "      <td>veteran</td>\n",
       "      <td>3</td>\n",
       "      <td>S8E6: The Iron Throne</td>\n",
       "    </tr>\n",
       "    <tr>\n",
       "      <th>10382</th>\n",
       "      <td>whisperers</td>\n",
       "      <td>1</td>\n",
       "      <td>whisper</td>\n",
       "      <td>3</td>\n",
       "      <td>S8E6: The Iron Throne</td>\n",
       "    </tr>\n",
       "  </tbody>\n",
       "</table>\n",
       "<p>10383 rows × 5 columns</p>\n",
       "</div>"
      ],
      "text/plain": [
       "        all_forms  count base_forms levels_frequency    season_episode_names\n",
       "0             ale      1        ale             5-25  S1E1: Winter Is Coming\n",
       "1          allies      7       ally                3  S1E1: Winter Is Coming\n",
       "2       alongside      1  alongside                3  S1E1: Winter Is Coming\n",
       "3       ancestral      1   ancestor                4  S1E1: Winter Is Coming\n",
       "4           arbor      1     arbour             5-25  S1E1: Winter Is Coming\n",
       "...           ...    ...        ...              ...                     ...\n",
       "10378      tyrant      2     tyrant             5-25   S8E6: The Iron Throne\n",
       "10379   unsullied      5      sully             5-25   S8E6: The Iron Throne\n",
       "10380      vanity      1     vanity             5-25   S8E6: The Iron Throne\n",
       "10381     veteran      1    veteran                3   S8E6: The Iron Throne\n",
       "10382  whisperers      1    whisper                3   S8E6: The Iron Throne\n",
       "\n",
       "[10383 rows x 5 columns]"
      ]
     },
     "execution_count": 47,
     "metadata": {},
     "output_type": "execute_result"
    }
   ],
   "source": [
    "df_got_lvl[df_got_lvl['season_episode_names'].str.contains('S5E6')]\n",
    "df_got_lvl"
   ]
  },
  {
   "cell_type": "code",
   "execution_count": 44,
   "metadata": {},
   "outputs": [],
   "source": [
    "df_got_lvl = pd.concat(frames_2)\n",
    "df_got_lvl = pd.merge(df_got_lvl, df_got[['season_episode_names']].reset_index(), on='index')\n",
    "df_got_lvl = df_got_lvl[['all_forms', 'count', 'base_forms', 'levels_frequency', 'season_episode_names']]\n",
    "df_got_lvl['season_episode_names'] = df_got_lvl['season_episode_names'].apply(lambda x:re.sub(',', '', x))\n",
    "# df_got_lvl[df_got_lvl['levels_coverage']>=15]"
   ]
  },
  {
   "cell_type": "code",
   "execution_count": 49,
   "metadata": {},
   "outputs": [],
   "source": [
    "#data for Datawrapper\n",
    "# for i in df_got_lvl.values:\n",
    "#     print(str(i[0])+', '+str(i[1])+', '+str(i[2])+', '+str(i[3])+', '+str(i[4]))"
   ]
  }
 ],
 "metadata": {
  "kernelspec": {
   "display_name": "Python 3",
   "language": "python",
   "name": "python3"
  },
  "language_info": {
   "codemirror_mode": {
    "name": "ipython",
    "version": 3
   },
   "file_extension": ".py",
   "mimetype": "text/x-python",
   "name": "python",
   "nbconvert_exporter": "python",
   "pygments_lexer": "ipython3",
   "version": "3.7.7"
  }
 },
 "nbformat": 4,
 "nbformat_minor": 4
}
